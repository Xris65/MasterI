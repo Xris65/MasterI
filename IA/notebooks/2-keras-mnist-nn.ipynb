{
 "cells": [
  {
   "cell_type": "markdown",
   "metadata": {},
   "source": [
    "# Réseaux de neurones pour la reconnaissance de chiffres manuscrits\n",
    "\n",
    "Dans ce notebook, nous allons voir, étape par étape, comment entrainer un model pour reconnaitre des chiffres manuscrits. Pour cela nous devons :\n",
    "\n",
    "1. importer les bibliothèques nécessaires, en particulier la bibliothèque keras \n",
    "2. charger les données, il s'agit du dataset mnist\n",
    "3. définir notre réseau de neurones\n",
    "4. entrainer le modèle\n",
    "5. Le tester\n",
    "\n",
    "Comme vous pouvez le remarquer, les étapes sont quasiment les mêmes que celles vues dans le cours sur le machine learning et la bibliothèque sklearn. Ce qui change c'est l'utilisation des réseaux de neurones.\n"
   ]
  },
  {
   "cell_type": "markdown",
   "metadata": {},
   "source": [
    "Commençons donc par importer les bibliothèques nécessaires :"
   ]
  },
  {
   "cell_type": "code",
   "execution_count": 1,
   "metadata": {},
   "outputs": [],
   "source": [
    "import tensorflow as tf\n",
    "import keras\n",
    "import numpy as np\n",
    "import matplotlib\n",
    "import matplotlib.pyplot as plt"
   ]
  },
  {
   "cell_type": "markdown",
   "metadata": {},
   "source": [
    "Puis nous allons charger les données du dataset."
   ]
  },
  {
   "cell_type": "code",
   "execution_count": 2,
   "metadata": {},
   "outputs": [],
   "source": [
    "from keras.datasets import mnist"
   ]
  },
  {
   "cell_type": "markdown",
   "metadata": {},
   "source": [
    " Les concepteurs de mnist ont bien fait les choses : ils ont prévu une méthode permettant de découper les données en train et test."
   ]
  },
  {
   "cell_type": "code",
   "execution_count": 21,
   "metadata": {},
   "outputs": [],
   "source": [
    "(X_train, Y_train), (X_test, Y_test) = mnist.load_data()"
   ]
  },
  {
   "cell_type": "markdown",
   "metadata": {},
   "source": [
    "On peut commencer par quelques manipulations de base pour explorer les données qu'on vient de charger :"
   ]
  },
  {
   "cell_type": "code",
   "execution_count": 4,
   "metadata": {},
   "outputs": [
    {
     "name": "stdout",
     "output_type": "stream",
     "text": [
      "X_train shape:  (60000, 28, 28)\n",
      "Y_train shape:  (60000,)\n"
     ]
    }
   ],
   "source": [
    "print('X_train shape: ',X_train.shape)\n",
    "print('Y_train shape: ',Y_train.shape)"
   ]
  },
  {
   "cell_type": "markdown",
   "metadata": {},
   "source": [
    "On voit que X_train contient 60k d'exemples. Cheque exemple est une image 28 x 28. Y_train contient 60k  étiquettes. On peut le voir en faisant comme suit :"
   ]
  },
  {
   "cell_type": "code",
   "execution_count": 16,
   "metadata": {},
   "outputs": [
    {
     "data": {
      "image/png": "[encoded data removed]",
      "text/plain": [
       "<Figure size 432x288 with 1 Axes>"
      ]
     },
     "metadata": {
      "needs_background": "light"
     },
     "output_type": "display_data"
    },
    {
     "name": "stdout",
     "output_type": "stream",
     "text": [
      "0\n"
     ]
    }
   ],
   "source": [
    "from matplotlib import pyplot as plt\n",
    "from matplotlib import cm as cm\n",
    "\n",
    "plt.imshow(X_train[1000], cmap=cm.Greys)\n",
    "plt.show()\n",
    "\n",
    "print(Y_train[1000])"
   ]
  },
  {
   "cell_type": "markdown",
   "metadata": {},
   "source": [
    "Maintenant que nous avons vu à quoi ressemble notre dataset, on peut commencer à utiliser les réseaux de neurones pour reconnaître les chiffres manuscrits. \n",
    "\n",
    "Pour le moment, nous avons vu les réseaux de neurones \"simples\" et pas d'architectures avancées. Nous allons donc devoir \"applatir\" les données en entrée de notre réseau. En effet, les données arrivent sous forme d'images 28 x 28. Nous allons donc transformer chaque image en un vecteur de taille 28 x 28 = 784 :"
   ]
  },
  {
   "cell_type": "code",
   "execution_count": 6,
   "metadata": {},
   "outputs": [],
   "source": [
    "num_pixels = X_train.shape[1] * X_train.shape[2]\n",
    "X_train = X_train.reshape(X_train.shape[0], num_pixels).T\n",
    "X_test = X_test.reshape(X_test.shape[0], num_pixels).T\n",
    "Y_train = Y_train.reshape(Y_train.shape[0], 1)\n",
    "Y_test = Y_test.reshape(Y_test.shape[0], 1)"
   ]
  },
  {
   "cell_type": "markdown",
   "metadata": {},
   "source": [
    "Patience encore, nous allons faire quelques transformations supplémetaires sur les données pour changer le type de donnéese et les normer :"
   ]
  },
  {
   "cell_type": "code",
   "execution_count": 7,
   "metadata": {},
   "outputs": [],
   "source": [
    "X_train = X_train.astype('float32')\n",
    "X_test = X_test.astype('float32')\n",
    "Y_train = Y_train.astype('float32')\n",
    "Y_test = Y_test.astype('float32')\n",
    "X_train  = X_train / 255\n",
    "X_test  = X_test / 255"
   ]
  },
  {
   "cell_type": "markdown",
   "metadata": {},
   "source": [
    "Dans un but purement pédagogique, nous allons dans un premier temps faire une classification binaire : les chiffres correspondant à 5 seront labélisés 1 et ceux différents de 5 seront lablisés 0. Encore une fois c'est dans un but purement pédagogique ... "
   ]
  },
  {
   "cell_type": "code",
   "execution_count": 8,
   "metadata": {},
   "outputs": [],
   "source": [
    "Y_new = np.zeros(Y_train.shape)\n",
    "Y_new[np.where(Y_train==5.0)[0]] = 1\n",
    "Y_train = Y_new\n",
    "\n",
    "Y_new = np.zeros(Y_test.shape)\n",
    "Y_new[np.where(Y_test==5.0)[0]] = 1\n",
    "Y_test = Y_new\n",
    "\n",
    "\n",
    "Y_train = Y_train.T\n",
    "Y_test = Y_test.T"
   ]
  },
  {
   "cell_type": "markdown",
   "metadata": {},
   "source": [
    "Une dernière manipulation pour mélanger les données :"
   ]
  },
  {
   "cell_type": "code",
   "execution_count": 9,
   "metadata": {},
   "outputs": [],
   "source": [
    "m = m = X_train.shape[1] #number of examples\n",
    "np.random.seed(138)\n",
    "shuffle_index = np.random.permutation(m)\n",
    "X_train, Y_train = X_train[:,shuffle_index], Y_train[:,shuffle_index]"
   ]
  },
  {
   "cell_type": "markdown",
   "metadata": {},
   "source": [
    "Commençons par essayer d'entrainer un model sans utiliser keras mais juste avec numpy. Pour cela, nous avons besoin de définir nos propres fonctions :"
   ]
  },
  {
   "cell_type": "code",
   "execution_count": 10,
   "metadata": {},
   "outputs": [
    {
     "data": {
      "image/png": "[encoded data removed]",
      "text/plain": [
       "<Figure size 432x288 with 1 Axes>"
      ]
     },
     "metadata": {
      "needs_background": "light"
     },
     "output_type": "display_data"
    }
   ],
   "source": [
    "#On définit la fonction sigmoid :\n",
    "def sigmoid(z):\n",
    "    s = 1. / (1. + np.exp(-z))\n",
    "    return s\n",
    "\n",
    "#On peut visualiser ce qu'elle fait :\n",
    "x = np.arange(-12.0, 12.0, 1.0, dtype=np.float32)\n",
    "y = sigmoid(x)\n",
    "plt.plot(x, y)\n",
    "plt.show()"
   ]
  },
  {
   "cell_type": "code",
   "execution_count": 11,
   "metadata": {},
   "outputs": [],
   "source": [
    "#On définit la fonction de \"loss\" :\n",
    "def compute_loss(Y, Y_hat):\n",
    "    m = Y.shape[1]\n",
    "    L = -(1./m) * (np.sum(np.multiply(np.log(Y_hat),Y)) + np.sum( np.multiply(np.log(1-Y_hat),(1-Y))))\n",
    "    return L"
   ]
  },
  {
   "cell_type": "markdown",
   "metadata": {},
   "source": [
    "Nous y voilà, nous allons pouvoir définir la rétro propagation, construire et entrainer le modèle : "
   ]
  },
  {
   "cell_type": "code",
   "execution_count": 12,
   "metadata": {},
   "outputs": [
    {
     "name": "stdout",
     "output_type": "stream",
     "text": [
      "Y.shape=(1, 60000)\n",
      "Epoch 0 cost:  0.6817831288870175\n",
      "Epoch 20 cost:  0.15693060630580025\n"
     ]
    },
    {
     "ename": "KeyboardInterrupt",
     "evalue": "",
     "output_type": "error",
     "traceback": [
      "\u001b[0;31m---------------------------------------------------------------------------\u001b[0m",
      "\u001b[0;31mKeyboardInterrupt\u001b[0m                         Traceback (most recent call last)",
      "\u001b[0;32m/var/folders/93/3tqymmzn2kgbyzq9twwzp9pw0000gn/T/ipykernel_84665/40998516.py\u001b[0m in \u001b[0;36m<module>\u001b[0;34m\u001b[0m\n\u001b[1;32m     14\u001b[0m \u001b[0mcosts_list\u001b[0m \u001b[0;34m=\u001b[0m \u001b[0;34m[\u001b[0m\u001b[0;34m]\u001b[0m\u001b[0;34m\u001b[0m\u001b[0;34m\u001b[0m\u001b[0m\n\u001b[1;32m     15\u001b[0m \u001b[0;32mfor\u001b[0m \u001b[0mi\u001b[0m \u001b[0;32min\u001b[0m \u001b[0mrange\u001b[0m\u001b[0;34m(\u001b[0m\u001b[0;36m100\u001b[0m\u001b[0;34m)\u001b[0m\u001b[0;34m:\u001b[0m\u001b[0;34m\u001b[0m\u001b[0;34m\u001b[0m\u001b[0m\n\u001b[0;32m---> 16\u001b[0;31m     \u001b[0mZ\u001b[0m \u001b[0;34m=\u001b[0m \u001b[0mnp\u001b[0m\u001b[0;34m.\u001b[0m\u001b[0mmatmul\u001b[0m\u001b[0;34m(\u001b[0m\u001b[0mW\u001b[0m\u001b[0;34m,\u001b[0m \u001b[0mX\u001b[0m\u001b[0;34m)\u001b[0m \u001b[0;34m+\u001b[0m \u001b[0mb\u001b[0m\u001b[0;34m\u001b[0m\u001b[0;34m\u001b[0m\u001b[0m\n\u001b[0m\u001b[1;32m     17\u001b[0m     \u001b[0mA\u001b[0m \u001b[0;34m=\u001b[0m \u001b[0msigmoid\u001b[0m\u001b[0;34m(\u001b[0m\u001b[0mZ\u001b[0m\u001b[0;34m)\u001b[0m\u001b[0;34m\u001b[0m\u001b[0;34m\u001b[0m\u001b[0m\n\u001b[1;32m     18\u001b[0m \u001b[0;34m\u001b[0m\u001b[0m\n",
      "\u001b[0;31mKeyboardInterrupt\u001b[0m: "
     ]
    }
   ],
   "source": [
    "learning_rate = 1.\n",
    "\n",
    "X = X_train\n",
    "Y = Y_train\n",
    "\n",
    "print('Y.shape={}'.format(Y.shape))\n",
    "\n",
    "n_x = X.shape[0]\n",
    "m = X.shape[1]\n",
    "\n",
    "W = np.random.randn(1, n_x) * 0.01\n",
    "b = np.zeros((1, 1))\n",
    "\n",
    "costs_list = []\n",
    "for i in range(100):\n",
    "    Z = np.matmul(W, X) + b\n",
    "    A = sigmoid(Z)\n",
    "\n",
    "    cost = compute_loss(Y, A)\n",
    "\n",
    "    #print('A-Y.shape={}'.format((A-Y).shape))\n",
    "    #print('X.T.shape={}'.format((X.T).shape))\n",
    "\n",
    "    dW = (1./m) * np.matmul((A-Y), X.T)\n",
    "    db = (1./m) * np.sum(A-Y, axis=1, keepdims=True)\n",
    "\n",
    "    W = W - learning_rate * dW\n",
    "    b = b - learning_rate * db\n",
    "\n",
    "    if (i % 20 == 0):\n",
    "        print(\"Epoch\", i, \"cost: \", cost)\n",
    "        costs_list.append(cost)\n",
    "\n",
    "print(\"Final cost:\", cost)\n"
   ]
  },
  {
   "cell_type": "code",
   "execution_count": null,
   "metadata": {},
   "outputs": [
    {
     "data": {
      "image/png": "[encoded data removed]",
      "text/plain": [
       "<Figure size 432x288 with 1 Axes>"
      ]
     },
     "metadata": {
      "needs_background": "light"
     },
     "output_type": "display_data"
    }
   ],
   "source": [
    "x_axis = [i for i in range(0, 100, 20) ]\n",
    "y_axis = costs_list\n",
    "plt.plot(x_axis, y_axis)\n",
    "plt.show()"
   ]
  },
  {
   "cell_type": "markdown",
   "metadata": {},
   "source": [
    "## Réseaux de neurones avec keras\n",
    "\n",
    "Ca reste compliqué de tout faire avec numpy ... Heureusement, il y a keras. \n",
    "\n",
    "Voici le code qui fait exactement la même chose que ce que nous avions fait avant :"
   ]
  },
  {
   "cell_type": "code",
   "execution_count": null,
   "metadata": {},
   "outputs": [
    {
     "name": "stdout",
     "output_type": "stream",
     "text": [
      "Model: \"sequential_1\"\n",
      "_________________________________________________________________\n",
      "Layer (type)                 Output Shape              Param #   \n",
      "=================================================================\n",
      "dense_1 (Dense)              (None, 784)               615440    \n",
      "_________________________________________________________________\n",
      "dense_2 (Dense)              (None, 10)                7850      \n",
      "=================================================================\n",
      "Total params: 623,290\n",
      "Trainable params: 623,290\n",
      "Non-trainable params: 0\n",
      "_________________________________________________________________\n",
      "Train on 60000 samples, validate on 10000 samples\n",
      "Epoch 1/25\n",
      "60000/60000 [==============================] - 3s 57us/step - loss: 0.2307 - accuracy: 0.9339 - val_loss: 0.1110 - val_accuracy: 0.9663\n",
      "Epoch 2/25\n",
      "60000/60000 [==============================] - 3s 51us/step - loss: 0.0886 - accuracy: 0.9738 - val_loss: 0.0805 - val_accuracy: 0.9738\n",
      "Epoch 3/25\n",
      "60000/60000 [==============================] - 3s 52us/step - loss: 0.0561 - accuracy: 0.9834 - val_loss: 0.0692 - val_accuracy: 0.9784\n",
      "Epoch 4/25\n",
      "60000/60000 [==============================] - 3s 57us/step - loss: 0.0386 - accuracy: 0.9884 - val_loss: 0.0641 - val_accuracy: 0.9801\n",
      "Epoch 5/25\n",
      "60000/60000 [==============================] - 3s 54us/step - loss: 0.0266 - accuracy: 0.9917 - val_loss: 0.0639 - val_accuracy: 0.9794\n",
      "Epoch 6/25\n",
      "60000/60000 [==============================] - 3s 56us/step - loss: 0.0194 - accuracy: 0.9944 - val_loss: 0.0627 - val_accuracy: 0.9804\n",
      "Epoch 7/25\n",
      "60000/60000 [==============================] - 3s 55us/step - loss: 0.0151 - accuracy: 0.9956 - val_loss: 0.0730 - val_accuracy: 0.9765\n",
      "Epoch 8/25\n",
      "60000/60000 [==============================] - 3s 54us/step - loss: 0.0111 - accuracy: 0.9969 - val_loss: 0.0627 - val_accuracy: 0.9816\n",
      "Epoch 9/25\n",
      "60000/60000 [==============================] - 3s 57us/step - loss: 0.0087 - accuracy: 0.9976 - val_loss: 0.0831 - val_accuracy: 0.9767\n",
      "Epoch 10/25\n",
      "60000/60000 [==============================] - 3s 56us/step - loss: 0.0080 - accuracy: 0.9976 - val_loss: 0.0666 - val_accuracy: 0.9813\n",
      "Epoch 11/25\n",
      "60000/60000 [==============================] - 4s 59us/step - loss: 0.0083 - accuracy: 0.9975 - val_loss: 0.0844 - val_accuracy: 0.9788\n",
      "Epoch 12/25\n",
      "60000/60000 [==============================] - 5s 77us/step - loss: 0.0078 - accuracy: 0.9977 - val_loss: 0.0723 - val_accuracy: 0.9817\n",
      "Epoch 13/25\n",
      "60000/60000 [==============================] - 6s 100us/step - loss: 0.0048 - accuracy: 0.9987 - val_loss: 0.0683 - val_accuracy: 0.9822\n",
      "Epoch 14/25\n",
      "60000/60000 [==============================] - 6s 92us/step - loss: 0.0080 - accuracy: 0.9976 - val_loss: 0.0726 - val_accuracy: 0.9821\n",
      "Epoch 15/25\n",
      "60000/60000 [==============================] - 4s 68us/step - loss: 0.0057 - accuracy: 0.9982 - val_loss: 0.0637 - val_accuracy: 0.9830\n",
      "Epoch 16/25\n",
      "60000/60000 [==============================] - 3s 57us/step - loss: 0.0057 - accuracy: 0.9981 - val_loss: 0.0696 - val_accuracy: 0.9830\n",
      "Epoch 17/25\n",
      "60000/60000 [==============================] - 3s 56us/step - loss: 0.0035 - accuracy: 0.9990 - val_loss: 0.0762 - val_accuracy: 0.9825\n",
      "Epoch 18/25\n",
      "60000/60000 [==============================] - 3s 57us/step - loss: 0.0019 - accuracy: 0.9996 - val_loss: 0.0764 - val_accuracy: 0.9836\n",
      "Epoch 19/25\n",
      "60000/60000 [==============================] - 4s 65us/step - loss: 0.0050 - accuracy: 0.9984 - val_loss: 0.0944 - val_accuracy: 0.9807\n",
      "Epoch 20/25\n",
      "60000/60000 [==============================] - 4s 69us/step - loss: 0.0070 - accuracy: 0.9975 - val_loss: 0.0734 - val_accuracy: 0.9836\n",
      "Epoch 21/25\n",
      "60000/60000 [==============================] - 4s 68us/step - loss: 0.0017 - accuracy: 0.9996 - val_loss: 0.0884 - val_accuracy: 0.9820\n",
      "Epoch 22/25\n",
      "60000/60000 [==============================] - 4s 68us/step - loss: 0.0054 - accuracy: 0.9983 - val_loss: 0.0968 - val_accuracy: 0.9805\n",
      "Epoch 23/25\n",
      "60000/60000 [==============================] - 4s 63us/step - loss: 0.0049 - accuracy: 0.9983 - val_loss: 0.0869 - val_accuracy: 0.9836\n",
      "Epoch 24/25\n",
      "60000/60000 [==============================] - 4s 61us/step - loss: 6.2359e-04 - accuracy: 0.9999 - val_loss: 0.0771 - val_accuracy: 0.9850\n",
      "Epoch 25/25\n",
      "60000/60000 [==============================] - 4s 61us/step - loss: 0.0060 - accuracy: 0.9981 - val_loss: 0.0902 - val_accuracy: 0.9819\n",
      "10000/10000 [==============================] - 0s 27us/step\n",
      "Neural network accuracy: 98.19%\n"
     ]
    }
   ],
   "source": [
    "from __future__ import print_function\n",
    "\n",
    "import tensorflow as tf\n",
    "import keras\n",
    "from keras.datasets import mnist\n",
    "from keras.models import Sequential\n",
    "from keras.layers import Dense, Dropout\n",
    "from keras.optimizers import RMSprop\n",
    "\n",
    "\n",
    "#print('tensorflow:', tf.__version__)\n",
    "#print('keras:', keras.__version__)\n",
    "\n",
    "\n",
    "#load (first download if necessary) the MNIST dataset\n",
    "# (the dataset is stored in your home direcoty in ~/.keras/datasets/mnist.npz\n",
    "#  and will take  ~11MB)\n",
    "# data is already split in train and test datasets\n",
    "(x_train, y_train), (x_test, y_test) = mnist.load_data()\n",
    "\n",
    "# x_train : 60000 images of size 28x28, i.e., x_train.shape = (60000, 28, 28)\n",
    "# y_train : 60000 labels (from 0 to 9)\n",
    "# x_test  : 10000 images of size 28x28, i.e., x_test.shape = (10000, 28, 28)\n",
    "# x_test  : 10000 labels\n",
    "# all datasets are of type uint8\n",
    "\n",
    "#To input our values in our network Dense layer, we need to flatten the datasets, i.e.,\n",
    "# pass from (60000, 28, 28) to (60000, 784)\n",
    "#flatten images\n",
    "num_pixels = x_train.shape[1] * x_train.shape[2]\n",
    "x_train = x_train.reshape(x_train.shape[0], num_pixels)\n",
    "x_test = x_test.reshape(x_test.shape[0], num_pixels)\n",
    "\n",
    "#Convert to float\n",
    "x_train = x_train.astype('float32')\n",
    "x_test = x_test.astype('float32')\n",
    "\n",
    "#Normalize inputs from [0; 255] to [0; 1]\n",
    "x_train = x_train / 255\n",
    "x_test = x_test / 255\n",
    "\n",
    "\n",
    "#Convert class vectors to binary class matrices (\"one hot encoding\")\n",
    "## Doc : https://keras.io/utils/#to_categorical\n",
    "y_train = keras.utils.to_categorical(y_train)\n",
    "y_test = keras.utils.to_categorical(y_test)\n",
    "\n",
    "\n",
    "num_classes = y_train.shape[1]\n",
    "\n",
    "\n",
    "\n",
    "#Let start our work: creating a neural network\n",
    "\n",
    "#####TO COMPLETE\n",
    "def neural_network():\n",
    "    model = Sequential()\n",
    "    model.add(Dense(num_pixels, input_dim=num_pixels, kernel_initializer='normal', activation='relu'))\n",
    "    #model.add(Dropout(.5))\n",
    "    model.add(Dense(num_classes, kernel_initializer='normal', activation='softmax'))\n",
    "    model.compile(loss='categorical_crossentropy', optimizer='adam', metrics=['accuracy'])\n",
    "    return model\n",
    "\n",
    "model = neural_network()\n",
    "model.summary()\n",
    "model.fit(x_train, y_train, validation_data=(x_test, y_test), epochs=25, batch_size=100)#98.36%\n",
    "\n",
    "scores = model.evaluate(x_test, y_test)\n",
    "print(\"Neural network accuracy: %.2f%%\" % (scores[1]*100))\n",
    "\n"
   ]
  }
 ],
 "metadata": {
  "kernelspec": {
   "display_name": "Python 3",
   "language": "python",
   "name": "python3"
  },
  "language_info": {
   "codemirror_mode": {
    "name": "ipython",
    "version": 3
   },
   "file_extension": ".py",
   "mimetype": "text/x-python",
   "name": "python",
   "nbconvert_exporter": "python",
   "pygments_lexer": "ipython3",
   "version": "3.9.0"
  }
 },
 "nbformat": 4,
 "nbformat_minor": 2
}

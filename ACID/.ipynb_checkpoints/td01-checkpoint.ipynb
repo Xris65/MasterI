{
 "cells": [
  {
   "cell_type": "markdown",
   "metadata": {},
   "source": [
    "#### Université de Bordeaux,  Master Mention Informatique,  2021-2022\n",
    "\n",
    "# Analyse, classification et indexation des données: feuille 1\n",
    "### Rappels : Probabilités et statistiques, Algèbre linéaire avec Python"
   ]
  },
  {
   "cell_type": "markdown",
   "metadata": {},
   "source": [
    "# 1. Vecteurs et matrices\n",
    "\n",
    "Un élément unique, un vecteur ligne ou colonne sont des cas particuliers de matrice (tableau 2D).\n",
    "\n",
    "Une des bibliothèques de <code>Python</code> les plus utilisées en algèbre linéaire est la bibliothèque <code>numpy</code>. On commence par l'importer pour pouvoir l'utiliser pour la suite."
   ]
  },
  {
   "cell_type": "code",
   "execution_count": 6,
   "metadata": {},
   "outputs": [],
   "source": [
    "import numpy as np"
   ]
  },
  {
   "cell_type": "markdown",
   "metadata": {},
   "source": [
    "### Exercice 1.\n",
    "\n",
    "Création de tableaux, accès à un élément d'un tableau "
   ]
  },
  {
   "cell_type": "code",
   "execution_count": null,
   "metadata": {},
   "outputs": [],
   "source": []
  },
  {
   "cell_type": "markdown",
   "metadata": {},
   "source": [
    "Création d'un vecteur ligne :"
   ]
  },
  {
   "cell_type": "code",
   "execution_count": 7,
   "metadata": {},
   "outputs": [
    {
     "data": {
      "text/plain": [
       "array([10, 20, 30, 40])"
      ]
     },
     "execution_count": 7,
     "metadata": {},
     "output_type": "execute_result"
    }
   ],
   "source": [
    "L1 = np.array([10, 20, 30, 40])\n",
    "L1"
   ]
  }
 ],
 "metadata": {
  "kernelspec": {
   "display_name": "Python 3",
   "language": "python",
   "name": "python3"
  },
  "language_info": {
   "codemirror_mode": {
    "name": "ipython",
    "version": 3
   },
   "file_extension": ".py",
   "mimetype": "text/x-python",
   "name": "python",
   "nbconvert_exporter": "python",
   "pygments_lexer": "ipython3",
   "version": "3.7.3"
  }
 },
 "nbformat": 4,
 "nbformat_minor": 2
}

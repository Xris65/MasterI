{
 "cells": [
  {
   "cell_type": "markdown",
   "source": [
    "### Méthode de Bayes"
   ],
   "metadata": {}
  },
  {
   "cell_type": "markdown",
   "source": [
    "#### A la main :"
   ],
   "metadata": {}
  },
  {
   "cell_type": "code",
   "execution_count": 2,
   "source": [
    "import pandas as pa\n",
    "\n",
    "dic = {'S': ['M', 'M', 'M', 'M', 'F', 'F', 'F', 'F'],\n",
    "      'H': [1.82, 1.80, 1.70, 1.80, 1.52, 1.65, 1.68, 1.75],\n",
    "      'W': [82, 86, 77, 75, 45, 68, 59, 68],\n",
    "      'F': [30, 28, 30, 25, 15, 20, 18, 23]}\n",
    "\n",
    "data = pa.DataFrame(data=dic)"
   ],
   "outputs": [],
   "metadata": {}
  },
  {
   "cell_type": "code",
   "execution_count": 3,
   "source": [
    "print(data)"
   ],
   "outputs": [
    {
     "output_type": "stream",
     "name": "stdout",
     "text": [
      "   S     H   W   F\n",
      "0  M  1.82  82  30\n",
      "1  M  1.80  86  28\n",
      "2  M  1.70  77  30\n",
      "3  M  1.80  75  25\n",
      "4  F  1.52  45  15\n",
      "5  F  1.65  68  20\n",
      "6  F  1.68  59  18\n",
      "7  F  1.75  68  23\n"
     ]
    }
   ],
   "metadata": {}
  },
  {
   "cell_type": "code",
   "execution_count": 4,
   "source": [
    "data = data.sample(frac=1)\n",
    "print(data)"
   ],
   "outputs": [
    {
     "output_type": "stream",
     "name": "stdout",
     "text": [
      "   S     H   W   F\n",
      "4  F  1.52  45  15\n",
      "6  F  1.68  59  18\n",
      "0  M  1.82  82  30\n",
      "3  M  1.80  75  25\n",
      "5  F  1.65  68  20\n",
      "1  M  1.80  86  28\n",
      "7  F  1.75  68  23\n",
      "2  M  1.70  77  30\n"
     ]
    }
   ],
   "metadata": {}
  },
  {
   "cell_type": "code",
   "execution_count": 10,
   "source": [
    "X = data[['H', 'W', 'F']]\n",
    "y = data['S']\n",
    "X"
   ],
   "outputs": [
    {
     "output_type": "execute_result",
     "data": {
      "text/html": [
       "<div>\n",
       "<style scoped>\n",
       "    .dataframe tbody tr th:only-of-type {\n",
       "        vertical-align: middle;\n",
       "    }\n",
       "\n",
       "    .dataframe tbody tr th {\n",
       "        vertical-align: top;\n",
       "    }\n",
       "\n",
       "    .dataframe thead th {\n",
       "        text-align: right;\n",
       "    }\n",
       "</style>\n",
       "<table border=\"1\" class=\"dataframe\">\n",
       "  <thead>\n",
       "    <tr style=\"text-align: right;\">\n",
       "      <th></th>\n",
       "      <th>H</th>\n",
       "      <th>W</th>\n",
       "      <th>F</th>\n",
       "    </tr>\n",
       "  </thead>\n",
       "  <tbody>\n",
       "    <tr>\n",
       "      <th>4</th>\n",
       "      <td>1.52</td>\n",
       "      <td>45</td>\n",
       "      <td>15</td>\n",
       "    </tr>\n",
       "    <tr>\n",
       "      <th>6</th>\n",
       "      <td>1.68</td>\n",
       "      <td>59</td>\n",
       "      <td>18</td>\n",
       "    </tr>\n",
       "    <tr>\n",
       "      <th>0</th>\n",
       "      <td>1.82</td>\n",
       "      <td>82</td>\n",
       "      <td>30</td>\n",
       "    </tr>\n",
       "    <tr>\n",
       "      <th>3</th>\n",
       "      <td>1.80</td>\n",
       "      <td>75</td>\n",
       "      <td>25</td>\n",
       "    </tr>\n",
       "    <tr>\n",
       "      <th>5</th>\n",
       "      <td>1.65</td>\n",
       "      <td>68</td>\n",
       "      <td>20</td>\n",
       "    </tr>\n",
       "    <tr>\n",
       "      <th>1</th>\n",
       "      <td>1.80</td>\n",
       "      <td>86</td>\n",
       "      <td>28</td>\n",
       "    </tr>\n",
       "    <tr>\n",
       "      <th>7</th>\n",
       "      <td>1.75</td>\n",
       "      <td>68</td>\n",
       "      <td>23</td>\n",
       "    </tr>\n",
       "    <tr>\n",
       "      <th>2</th>\n",
       "      <td>1.70</td>\n",
       "      <td>77</td>\n",
       "      <td>30</td>\n",
       "    </tr>\n",
       "  </tbody>\n",
       "</table>\n",
       "</div>"
      ],
      "text/plain": [
       "      H   W   F\n",
       "4  1.52  45  15\n",
       "6  1.68  59  18\n",
       "0  1.82  82  30\n",
       "3  1.80  75  25\n",
       "5  1.65  68  20\n",
       "1  1.80  86  28\n",
       "7  1.75  68  23\n",
       "2  1.70  77  30"
      ]
     },
     "metadata": {},
     "execution_count": 10
    }
   ],
   "metadata": {}
  },
  {
   "cell_type": "code",
   "execution_count": 6,
   "source": [
    "#entrainement : il s'agit essentiellement d'inférer les valeurs des m et s de chaque variable\n",
    "import numpy as np\n",
    "\n",
    "means = []\n",
    "sigmas = []\n",
    "\n",
    "\n",
    "for c in X.columns:\n",
    "    means.append([np.mean(X[c][y=='M']), np.mean(X[c][y=='F'])])\n",
    "    sigmas.append([np.sqrt(np.var(X[c][y=='M'])), np.sqrt(np.var(X[c][y=='F']))])\n",
    "print('means: ', means)\n",
    "print('sigmas: ', sigmas)\n",
    "\n",
    "\n",
    "#propbas a priori:\n",
    "probas = [len(y[y=='M'])/len(y), len(y[y=='F'])/len(y)]\n",
    "print(probas)\n"
   ],
   "outputs": [
    {
     "output_type": "stream",
     "name": "stdout",
     "text": [
      "means:  [[1.78, 1.65], [80.0, 60.0], [28.25, 19.0]]\n",
      "sigmas:  [[0.04690415759823434, 0.08336666000266532], [4.301162633521313, 9.40744386111339], [2.0463381929681126, 2.9154759474226504]]\n",
      "[0.5, 0.5]\n"
     ]
    }
   ],
   "metadata": {}
  },
  {
   "cell_type": "code",
   "execution_count": 7,
   "source": [
    "import scipy.stats as st\n",
    "def predict(item):\n",
    "    p_m = 1\n",
    "    p_f = 1\n",
    "    for i in range(len(means)):\n",
    "        p_m *= st.norm.pdf(item[i], means[i][0], sigmas[i][0])\n",
    "        p_f *= st.norm.pdf(item[i], means[i][1], sigmas[i][1])\n",
    "    if probas[0] * p_m > probas[1] * p_f :\n",
    "        return 'M'\n",
    "    return 'F'\n",
    "\n",
    "print(predict([1.81, 59, 21]))"
   ],
   "outputs": [
    {
     "output_type": "stream",
     "name": "stdout",
     "text": [
      "F\n"
     ]
    }
   ],
   "metadata": {}
  },
  {
   "cell_type": "markdown",
   "source": [
    "#### Avec sklearn: "
   ],
   "metadata": {}
  },
  {
   "cell_type": "code",
   "execution_count": 8,
   "source": [
    "from sklearn.naive_bayes import GaussianNB\n",
    "nb = GaussianNB()\n",
    "nb.fit(X, y)"
   ],
   "outputs": [
    {
     "output_type": "execute_result",
     "data": {
      "text/plain": [
       "GaussianNB(priors=None, var_smoothing=1e-09)"
      ]
     },
     "metadata": {},
     "execution_count": 8
    }
   ],
   "metadata": {}
  },
  {
   "cell_type": "code",
   "execution_count": 9,
   "source": [
    "print(nb.predict([[1.81, 59, 21]])[0])"
   ],
   "outputs": [
    {
     "output_type": "stream",
     "name": "stdout",
     "text": [
      "F\n"
     ]
    }
   ],
   "metadata": {}
  },
  {
   "cell_type": "code",
   "execution_count": null,
   "source": [],
   "outputs": [],
   "metadata": {}
  }
 ],
 "metadata": {
  "kernelspec": {
   "name": "python3",
   "display_name": "Python 3.7.3 64-bit"
  },
  "language_info": {
   "codemirror_mode": {
    "name": "ipython",
    "version": 3
   },
   "file_extension": ".py",
   "mimetype": "text/x-python",
   "name": "python",
   "nbconvert_exporter": "python",
   "pygments_lexer": "ipython3",
   "version": "3.7.3"
  },
  "interpreter": {
   "hash": "916dbcbb3f70747c44a77c7bcd40155683ae19c65e1c03b4aa3499c5328201f1"
  }
 },
 "nbformat": 4,
 "nbformat_minor": 2
}
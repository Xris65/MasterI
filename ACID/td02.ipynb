{
 "cells": [
  {
   "cell_type": "code",
   "execution_count": 2,
   "source": [
    "import numpy as np\n",
    "from numpy.polynomial import Polynomial\n"
   ],
   "outputs": [],
   "metadata": {}
  },
  {
   "cell_type": "code",
   "execution_count": 3,
   "source": [
    "def valeurPolynome(coeff, x):\n",
    "    return Polynomial(coeff)(x)"
   ],
   "outputs": [],
   "metadata": {}
  },
  {
   "cell_type": "code",
   "execution_count": 4,
   "source": [
    "valeurPolynome([1,2,3], 1)\n",
    "valeurPolynome([2,2,2], 2)"
   ],
   "outputs": [
    {
     "output_type": "execute_result",
     "data": {
      "text/plain": [
       "14.0"
      ]
     },
     "metadata": {},
     "execution_count": 4
    }
   ],
   "metadata": {}
  },
  {
   "cell_type": "code",
   "execution_count": 5,
   "source": [
    "def derivPoly(coeff):\n",
    "    return Polynomial(coeff).deriv()"
   ],
   "outputs": [],
   "metadata": {}
  },
  {
   "cell_type": "code",
   "execution_count": 6,
   "source": [
    "derivPoly([1,2,3])"
   ],
   "outputs": [
    {
     "output_type": "execute_result",
     "data": {
      "text/latex": [
       "$x \\mapsto \\text{2.0} + \\text{6.0}\\,x$"
      ],
      "text/plain": [
       "Polynomial([2., 6.], domain=[-1.,  1.], window=[-1.,  1.])"
      ]
     },
     "metadata": {},
     "execution_count": 6
    }
   ],
   "metadata": {}
  },
  {
   "cell_type": "code",
   "execution_count": 7,
   "source": [
    "%matplotlib \n",
    "import matplotlib.pyplot as plt\n",
    "\n",
    "def parabole(x):\n",
    "    return x * x\n",
    "\n",
    "x = np.linspace(-300,300,600)\n",
    "y = [parabole(i) for i in x]\n",
    "\n",
    "epsilon = 0.1\n",
    "nu = 0.4\n",
    "\n",
    "plt.plot(x,y,'g')\n",
    "\n",
    "x0=250\n",
    "xcurrent = x0 - 2*x0\n",
    "xprec = x0\n",
    "\n",
    "plt.plot(x0,parabole(x0),'ok')\n",
    "\n",
    "\n",
    "while(abs(xprec - xcurrent) > epsilon):\n",
    "    xprec  = xcurrent\n",
    "    xcurrent = xprec - nu*2*xprec\n",
    "    plt.plot(xcurrent,parabole(xcurrent),'ob')\n",
    "    plt.pause(1)\n",
    "plt.plot(xcurrent,parabole(xcurrent),'xr')\n",
    "print(xcurrent)"
   ],
   "outputs": [
    {
     "output_type": "stream",
     "name": "stdout",
     "text": [
      "Using matplotlib backend: TkAgg\n"
     ]
    },
    {
     "output_type": "error",
     "ename": "TclError",
     "evalue": "can't invoke \"update\" command: application has been destroyed",
     "traceback": [
      "\u001b[0;31m---------------------------------------------------------------------------\u001b[0m",
      "\u001b[0;31mTclError\u001b[0m                                  Traceback (most recent call last)",
      "\u001b[0;32m<ipython-input-7-338bf031cb78>\u001b[0m in \u001b[0;36m<module>\u001b[0;34m()\u001b[0m\n\u001b[1;32m     24\u001b[0m     \u001b[0mxcurrent\u001b[0m \u001b[0;34m=\u001b[0m \u001b[0mxprec\u001b[0m \u001b[0;34m-\u001b[0m \u001b[0mnu\u001b[0m\u001b[0;34m*\u001b[0m\u001b[0;36m2\u001b[0m\u001b[0;34m*\u001b[0m\u001b[0mxprec\u001b[0m\u001b[0;34m\u001b[0m\u001b[0;34m\u001b[0m\u001b[0m\n\u001b[1;32m     25\u001b[0m     \u001b[0mplt\u001b[0m\u001b[0;34m.\u001b[0m\u001b[0mplot\u001b[0m\u001b[0;34m(\u001b[0m\u001b[0mxcurrent\u001b[0m\u001b[0;34m,\u001b[0m\u001b[0mparabole\u001b[0m\u001b[0;34m(\u001b[0m\u001b[0mxcurrent\u001b[0m\u001b[0;34m)\u001b[0m\u001b[0;34m,\u001b[0m\u001b[0;34m'ob'\u001b[0m\u001b[0;34m)\u001b[0m\u001b[0;34m\u001b[0m\u001b[0;34m\u001b[0m\u001b[0m\n\u001b[0;32m---> 26\u001b[0;31m     \u001b[0mplt\u001b[0m\u001b[0;34m.\u001b[0m\u001b[0mpause\u001b[0m\u001b[0;34m(\u001b[0m\u001b[0;36m1\u001b[0m\u001b[0;34m)\u001b[0m\u001b[0;34m\u001b[0m\u001b[0;34m\u001b[0m\u001b[0m\n\u001b[0m\u001b[1;32m     27\u001b[0m \u001b[0mplt\u001b[0m\u001b[0;34m.\u001b[0m\u001b[0mplot\u001b[0m\u001b[0;34m(\u001b[0m\u001b[0mxcurrent\u001b[0m\u001b[0;34m,\u001b[0m\u001b[0mparabole\u001b[0m\u001b[0;34m(\u001b[0m\u001b[0mxcurrent\u001b[0m\u001b[0;34m)\u001b[0m\u001b[0;34m,\u001b[0m\u001b[0;34m'xr'\u001b[0m\u001b[0;34m)\u001b[0m\u001b[0;34m\u001b[0m\u001b[0;34m\u001b[0m\u001b[0m\n\u001b[1;32m     28\u001b[0m \u001b[0mprint\u001b[0m\u001b[0;34m(\u001b[0m\u001b[0mxcurrent\u001b[0m\u001b[0;34m)\u001b[0m\u001b[0;34m\u001b[0m\u001b[0;34m\u001b[0m\u001b[0m\n",
      "\u001b[0;32m/usr/lib/python3/dist-packages/matplotlib/pyplot.py\u001b[0m in \u001b[0;36mpause\u001b[0;34m(interval)\u001b[0m\n\u001b[1;32m    293\u001b[0m             \u001b[0mcanvas\u001b[0m\u001b[0;34m.\u001b[0m\u001b[0mdraw_idle\u001b[0m\u001b[0;34m(\u001b[0m\u001b[0;34m)\u001b[0m\u001b[0;34m\u001b[0m\u001b[0;34m\u001b[0m\u001b[0m\n\u001b[1;32m    294\u001b[0m         \u001b[0mshow\u001b[0m\u001b[0;34m(\u001b[0m\u001b[0mblock\u001b[0m\u001b[0;34m=\u001b[0m\u001b[0;32mFalse\u001b[0m\u001b[0;34m)\u001b[0m\u001b[0;34m\u001b[0m\u001b[0;34m\u001b[0m\u001b[0m\n\u001b[0;32m--> 295\u001b[0;31m         \u001b[0mcanvas\u001b[0m\u001b[0;34m.\u001b[0m\u001b[0mstart_event_loop\u001b[0m\u001b[0;34m(\u001b[0m\u001b[0minterval\u001b[0m\u001b[0;34m)\u001b[0m\u001b[0;34m\u001b[0m\u001b[0;34m\u001b[0m\u001b[0m\n\u001b[0m\u001b[1;32m    296\u001b[0m     \u001b[0;32melse\u001b[0m\u001b[0;34m:\u001b[0m\u001b[0;34m\u001b[0m\u001b[0;34m\u001b[0m\u001b[0m\n\u001b[1;32m    297\u001b[0m         \u001b[0mtime\u001b[0m\u001b[0;34m.\u001b[0m\u001b[0msleep\u001b[0m\u001b[0;34m(\u001b[0m\u001b[0minterval\u001b[0m\u001b[0;34m)\u001b[0m\u001b[0;34m\u001b[0m\u001b[0;34m\u001b[0m\u001b[0m\n",
      "\u001b[0;32m/usr/lib/python3/dist-packages/matplotlib/backend_bases.py\u001b[0m in \u001b[0;36mstart_event_loop\u001b[0;34m(self, timeout)\u001b[0m\n\u001b[1;32m   2249\u001b[0m         \u001b[0mself\u001b[0m\u001b[0;34m.\u001b[0m\u001b[0m_looping\u001b[0m \u001b[0;34m=\u001b[0m \u001b[0;32mTrue\u001b[0m\u001b[0;34m\u001b[0m\u001b[0;34m\u001b[0m\u001b[0m\n\u001b[1;32m   2250\u001b[0m         \u001b[0;32mwhile\u001b[0m \u001b[0mself\u001b[0m\u001b[0;34m.\u001b[0m\u001b[0m_looping\u001b[0m \u001b[0;32mand\u001b[0m \u001b[0mcounter\u001b[0m \u001b[0;34m*\u001b[0m \u001b[0mtimestep\u001b[0m \u001b[0;34m<\u001b[0m \u001b[0mtimeout\u001b[0m\u001b[0;34m:\u001b[0m\u001b[0;34m\u001b[0m\u001b[0;34m\u001b[0m\u001b[0m\n\u001b[0;32m-> 2251\u001b[0;31m             \u001b[0mself\u001b[0m\u001b[0;34m.\u001b[0m\u001b[0mflush_events\u001b[0m\u001b[0;34m(\u001b[0m\u001b[0;34m)\u001b[0m\u001b[0;34m\u001b[0m\u001b[0;34m\u001b[0m\u001b[0m\n\u001b[0m\u001b[1;32m   2252\u001b[0m             \u001b[0mtime\u001b[0m\u001b[0;34m.\u001b[0m\u001b[0msleep\u001b[0m\u001b[0;34m(\u001b[0m\u001b[0mtimestep\u001b[0m\u001b[0;34m)\u001b[0m\u001b[0;34m\u001b[0m\u001b[0;34m\u001b[0m\u001b[0m\n\u001b[1;32m   2253\u001b[0m             \u001b[0mcounter\u001b[0m \u001b[0;34m+=\u001b[0m \u001b[0;36m1\u001b[0m\u001b[0;34m\u001b[0m\u001b[0;34m\u001b[0m\u001b[0m\n",
      "\u001b[0;32m/usr/lib/python3/dist-packages/matplotlib/backends/_backend_tk.py\u001b[0m in \u001b[0;36mflush_events\u001b[0;34m(self)\u001b[0m\n\u001b[1;32m    489\u001b[0m \u001b[0;34m\u001b[0m\u001b[0m\n\u001b[1;32m    490\u001b[0m     \u001b[0;32mdef\u001b[0m \u001b[0mflush_events\u001b[0m\u001b[0;34m(\u001b[0m\u001b[0mself\u001b[0m\u001b[0;34m)\u001b[0m\u001b[0;34m:\u001b[0m\u001b[0;34m\u001b[0m\u001b[0;34m\u001b[0m\u001b[0m\n\u001b[0;32m--> 491\u001b[0;31m         \u001b[0mself\u001b[0m\u001b[0;34m.\u001b[0m\u001b[0m_master\u001b[0m\u001b[0;34m.\u001b[0m\u001b[0mupdate\u001b[0m\u001b[0;34m(\u001b[0m\u001b[0;34m)\u001b[0m\u001b[0;34m\u001b[0m\u001b[0;34m\u001b[0m\u001b[0m\n\u001b[0m\u001b[1;32m    492\u001b[0m \u001b[0;34m\u001b[0m\u001b[0m\n\u001b[1;32m    493\u001b[0m \u001b[0;34m\u001b[0m\u001b[0m\n",
      "\u001b[0;32m/usr/lib/python3.7/tkinter/__init__.py\u001b[0m in \u001b[0;36mupdate\u001b[0;34m(self)\u001b[0m\n\u001b[1;32m   1175\u001b[0m     \u001b[0;32mdef\u001b[0m \u001b[0mupdate\u001b[0m\u001b[0;34m(\u001b[0m\u001b[0mself\u001b[0m\u001b[0;34m)\u001b[0m\u001b[0;34m:\u001b[0m\u001b[0;34m\u001b[0m\u001b[0;34m\u001b[0m\u001b[0m\n\u001b[1;32m   1176\u001b[0m         \u001b[0;34m\"\"\"Enter event loop until all pending events have been processed by Tcl.\"\"\"\u001b[0m\u001b[0;34m\u001b[0m\u001b[0;34m\u001b[0m\u001b[0m\n\u001b[0;32m-> 1177\u001b[0;31m         \u001b[0mself\u001b[0m\u001b[0;34m.\u001b[0m\u001b[0mtk\u001b[0m\u001b[0;34m.\u001b[0m\u001b[0mcall\u001b[0m\u001b[0;34m(\u001b[0m\u001b[0;34m'update'\u001b[0m\u001b[0;34m)\u001b[0m\u001b[0;34m\u001b[0m\u001b[0;34m\u001b[0m\u001b[0m\n\u001b[0m\u001b[1;32m   1178\u001b[0m     \u001b[0;32mdef\u001b[0m \u001b[0mupdate_idletasks\u001b[0m\u001b[0;34m(\u001b[0m\u001b[0mself\u001b[0m\u001b[0;34m)\u001b[0m\u001b[0;34m:\u001b[0m\u001b[0;34m\u001b[0m\u001b[0;34m\u001b[0m\u001b[0m\n\u001b[1;32m   1179\u001b[0m         \"\"\"Enter event loop until all idle callbacks have been called. This\n",
      "\u001b[0;31mTclError\u001b[0m: can't invoke \"update\" command: application has been destroyed"
     ]
    }
   ],
   "metadata": {}
  },
  {
   "cell_type": "code",
   "execution_count": 24,
   "source": [
    "%matplotlib\n",
    "import matplotlib.pyplot as plt\n",
    "\n",
    "def parabole(x):\n",
    "    return x * x\n",
    "\n",
    "x = np.linspace(-300,300,600)\n",
    "y = [parabole(i) for i in x]\n",
    "\n",
    "epsilon = 0.1\n",
    "attenuation = 3\n",
    "\n",
    "plt.plot(x,y,'g')\n",
    "\n",
    "x0=250\n",
    "xcurrent = x0 - 2*x0\n",
    "xprec = x0\n",
    "\n",
    "plt.plot(x0,parabole(x0),'ok')\n",
    "\n",
    "while(abs(xprec - xcurrent) > epsilon):\n",
    "    xprec  = xcurrent\n",
    "    nu = 1/np.log(attenuation)\n",
    "    attenuation = attenuation+1\n",
    "    xcurrent = xprec - nu*2*xprec\n",
    "    plt.plot(xcurrent,parabole(xcurrent),'ob')\n",
    "    plt.pause(1)\n",
    "plt.plot(xcurrent,parabole(xcurrent),'xr')"
   ],
   "outputs": [
    {
     "output_type": "stream",
     "name": "stdout",
     "text": [
      "Using matplotlib backend: TkAgg\n"
     ]
    },
    {
     "output_type": "execute_result",
     "data": {
      "text/plain": [
       "[<matplotlib.lines.Line2D at 0x7f82100557f0>]"
      ]
     },
     "metadata": {},
     "execution_count": 24
    }
   ],
   "metadata": {}
  },
  {
   "cell_type": "code",
   "execution_count": 42,
   "source": [
    "%matplotlib\n",
    "import matplotlib.pyplot as plt\n",
    "\n",
    "\n",
    "def polynom(x):\n",
    "    return 30 - 61 * x + 41 * pow(x,2) - 11 * pow(x,3) + pow(x,4)\n",
    "\n",
    "x = np.linspace(0,6,50)\n",
    "y = [polynom(i) for i in x]\n",
    "\n",
    "epsilon = 0.01\n",
    "nu = 0.01\n",
    "\n",
    "plt.plot(x,y,'g')\n",
    "\n",
    "x0=3\n",
    "xcurrent = x0 - nu * (-61 + 82* x0 - 33 * pow(x0,2) + 4* pow(x0,3))\n",
    "xprec = x0\n",
    "\n",
    "plt.plot(x0,polynom(x0),'ok')\n",
    "\n",
    "while(abs(xprec - xcurrent) > epsilon):\n",
    "    xprec  = xcurrent\n",
    "    xcurrent = xprec - nu*(-61 + 82* xprec - 33 * pow(xprec,2) + 4* pow(xprec,3))\n",
    "    plt.plot(xcurrent,polynom(xcurrent),'ob')\n",
    "    plt.pause(1)\n",
    "plt.plot(xcurrent,polynom(xcurrent),'xr')"
   ],
   "outputs": [
    {
     "output_type": "stream",
     "name": "stdout",
     "text": [
      "Using matplotlib backend: TkAgg\n"
     ]
    },
    {
     "output_type": "execute_result",
     "data": {
      "text/plain": [
       "[<matplotlib.lines.Line2D at 0x7f8209135f98>]"
      ]
     },
     "metadata": {},
     "execution_count": 42
    }
   ],
   "metadata": {}
  },
  {
   "cell_type": "code",
   "execution_count": 44,
   "source": [
    "#Code à compléter\n",
    "from mpl_toolkits.mplot3d import Axes3D\n",
    "\n",
    "def f(x,y):\n",
    "    return (x-1)*(x-2) + (y+3)*(y+4)\n",
    "    #x2-3x+2 + y2 + 4y + 3y + 12\n",
    "\n",
    "x = np.linspace(-8, 8, 160)\n",
    "y = np.linspace(-8, 8, 160)\n",
    "x, y = np.meshgrid(x, y)\n",
    "\n",
    "z = f(x, y)\n",
    "\n",
    "ax = Axes3D(plt.figure())\n",
    "\n",
    "ax.plot_surface(x, y, z)\n",
    "plt.show()\n"
   ],
   "outputs": [],
   "metadata": {}
  },
  {
   "cell_type": "code",
   "execution_count": 90,
   "source": [
    "def animationDescenteSurface(pdep):\n",
    "    x = np.linspace(-8, 8, 160)\n",
    "    y = np.linspace(-8, 8, 160)\n",
    "    x, y = np.meshgrid(x, y)\n",
    "\n",
    "    z = f(x, y)\n",
    "\n",
    "    ax = Axes3D(plt.figure())\n",
    "\n",
    "    ax.plot_surface(x, y, z)\n",
    "    plt.show()\n",
    "\n",
    "    (x0, y0) = pdep\n",
    "    nu = 0.2\n",
    "    xcurrent = x0 - nu * (2 * x0 - 3)\n",
    "    ycurrent = y0 - nu * (2 * y0 + 7)\n",
    "    xprec = x0\n",
    "    yprec = y0\n",
    "\n",
    "\n",
    "    ax.scatter([x0],[y0],f(x0,y0))\n",
    "    epsilon = 0.01\n",
    "    while(abs(pow(pow(xprec-xcurrent,2) + pow(yprec - ycurrent,2),1/2)) > epsilon):\n",
    "        xprec  = xcurrent\n",
    "        xcurrent = xprec - nu * (2 * xprec - 3)\n",
    "        yprec = ycurrent\n",
    "        ycurrent = yprec - nu * (2 * yprec + 7)\n",
    "        ax.scatter([xcurrent],[ycurrent],f(xcurrent,ycurrent))\n",
    "        plt.pause(1)\n",
    "    ax.scatter([xcurrent],[ycurrent],f(xcurrent,ycurrent))\n",
    "\n",
    "animationDescenteSurface((1,-5))\n"
   ],
   "outputs": [
    {
     "output_type": "stream",
     "name": "stdout",
     "text": [
      "1.32 -4.04\n",
      "1.3920000000000001 -3.824\n",
      "1.4352 -3.6944\n",
      "1.46112 -3.61664\n",
      "1.476672 -3.569984\n",
      "1.4860032 -3.5419904\n",
      "1.4916019200000001 -3.52519424\n",
      "1.4949611520000001 -3.515116544\n",
      "1.4969766912 -3.5090699264\n"
     ]
    }
   ],
   "metadata": {}
  },
  {
   "cell_type": "code",
   "execution_count": 10,
   "source": [
    "from random import random\n",
    "m = 40\n",
    "sizeNoise = 10\n",
    "x = [random()*50 + 5 for i in range(m)]\n",
    "noise = [random() * sizeNoise for i in range(m)] # ou np.rand(m,1) * sizeNoise\n",
    "pente = 0.8\n",
    "b =  20\n",
    "y = [b + pente*x[i] + noise[i] for i in range(m)]\n",
    "\n",
    "plt.plot(x,y,'bx')\n"
   ],
   "outputs": [
    {
     "output_type": "execute_result",
     "data": {
      "text/plain": [
       "[<matplotlib.lines.Line2D at 0x7f821049fda0>]"
      ]
     },
     "metadata": {},
     "execution_count": 10
    }
   ],
   "metadata": {}
  }
 ],
 "metadata": {
  "kernelspec": {
   "name": "python3",
   "display_name": "Python 3.7.3 64-bit"
  },
  "language_info": {
   "codemirror_mode": {
    "name": "ipython",
    "version": 3
   },
   "file_extension": ".py",
   "mimetype": "text/x-python",
   "name": "python",
   "nbconvert_exporter": "python",
   "pygments_lexer": "ipython3",
   "version": "3.7.3"
  },
  "interpreter": {
   "hash": "916dbcbb3f70747c44a77c7bcd40155683ae19c65e1c03b4aa3499c5328201f1"
  }
 },
 "nbformat": 4,
 "nbformat_minor": 2
}